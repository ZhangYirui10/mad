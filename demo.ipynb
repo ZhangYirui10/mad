{
 "cells": [
  {
   "cell_type": "code",
   "execution_count": 1,
   "id": "7e9d7260-dccc-4c28-85f1-c45d077a2290",
   "metadata": {},
   "outputs": [
    {
     "name": "stdout",
     "output_type": "stream",
     "text": [
      "Visible devices: 1\n",
      "Current device ID: 0\n",
      "Device name: NVIDIA H100 80GB HBM3\n"
     ]
    },
    {
     "data": {
      "application/vnd.jupyter.widget-view+json": {
       "model_id": "ca998a7c46a841dc9bfa9e45ff197eaa",
       "version_major": 2,
       "version_minor": 0
      },
      "text/plain": [
       "Loading checkpoint shards:   0%|          | 0/4 [00:00<?, ?it/s]"
      ]
     },
     "metadata": {},
     "output_type": "display_data"
    },
    {
     "data": {
      "application/vnd.jupyter.widget-view+json": {
       "model_id": "5048ae1026234337a3cae1a83df0c324",
       "version_major": 2,
       "version_minor": 0
      },
      "text/plain": [
       "Loading checkpoint shards:   0%|          | 0/4 [00:00<?, ?it/s]"
      ]
     },
     "metadata": {},
     "output_type": "display_data"
    },
    {
     "data": {
      "application/vnd.jupyter.widget-view+json": {
       "model_id": "d865969402f9485096a6d54f0391f155",
       "version_major": 2,
       "version_minor": 0
      },
      "text/plain": [
       "Loading checkpoint shards:   0%|          | 0/4 [00:00<?, ?it/s]"
      ]
     },
     "metadata": {},
     "output_type": "display_data"
    },
    {
     "name": "stdout",
     "output_type": "stream",
     "text": [
      "ChromaDB storage path: /home/yirui/mad/chroma/chroma_store/evidence_bgebase\n"
     ]
    }
   ],
   "source": [
    "import os\n",
    "os.environ[\"CUDA_VISIBLE_DEVICES\"] = \"5\" \n",
    "import logging\n",
    "import torch\n",
    "print(\"Visible devices:\", torch.cuda.device_count())\n",
    "print(\"Current device ID:\", torch.cuda.current_device())\n",
    "print(\"Device name:\", torch.cuda.get_device_name(0))\n",
    "from transformers.utils import logging as hf_logging\n",
    "hf_logging.set_verbosity_error() \n",
    "import sys\n",
    "sys.path.append(\".\")\n",
    "from main import run_single_agent, run_multi_agent\n",
    "from agents.intent_enhanced_retrieval import intent_enhanced_reformulation\n",
    "from chroma.chroma import ChromaClient\n",
    "chroma_store_path = os.path.abspath(\"./chroma/chroma_store/evidence_bgebase\")\n",
    "\n",
    "chroma_client = ChromaClient(vector_name=\"evidence_bgebase\", path=chroma_store_path)\n",
    "\n",
    "print(\"ChromaDB storage path:\", chroma_store_path)"
   ]
  },
  {
   "cell_type": "code",
   "execution_count": 3,
   "id": "38f793ca-d556-40d4-97cc-213b5c269304",
   "metadata": {},
   "outputs": [
    {
     "name": "stdout",
     "output_type": "stream",
     "text": [
      "TOP0 : [1]\n",
      "\"You won’t see THIS on Fox ‘News’: Gas prices were WAY higher in 2008, under REPUBLICAN president George W. Bush,\" Occupy Democrats wrote on Facebook. The post included images of two gas station price signs, labeled 2008 and 2021.\n",
      "\n",
      "TOP1 : [2]\n",
      "Statistics from the U.S. Energy Information Administration back up the claim about prices. During the past 20 years, the highest gas prices occurred in July 2008, during the Bush administration.\n",
      "\n",
      "TOP2 : [7]\n",
      "But Bush’s term also included two major economic shocks that sent gasoline prices tumbling. The first was the 9/11 attacks in 2001. By the end of that year, gas prices were around $1.07. The other was the 2008 mortgage crisis and Wall Street collapse, near the end of his second term. By the time Obama took over, gas prices were down to about $1.83.\n",
      "\n",
      "TOP3 : [20227]\n",
      "Gasoline prices are surely higher under Biden than they were under his predecessor, former President Donald Trump.\n",
      "\n",
      "TOP4 : [23791]\n",
      "Gasoline prices are higher under Biden than they were under Trump. Federal Energy Information Administration\n",
      "\n",
      "TOP5 : [11616]\n",
      "Last year’s soaring gasoline prices\n",
      "\n",
      "TOP6 : [21944]\n",
      "Attached to the post was a graph showing how gasoline prices have fluctuated since President Joe Biden entered office in January 2021. The graph’s texth said, \"Gas prices up 63% in just 31 months under Biden administration.\"\n",
      "\n",
      "TOP7 : [2043]\n",
      "We have previously written that gas prices are currently at their highest levels since 2014, and that the year-over-year rise is among the highest in at least 30 years.\n",
      "\n",
      "TOP8 : [6]\n",
      "Today’s gas prices are around $3.32 a gallon, up from $2.37 when the Biden administration took office, according to the EIA. That’s still well off the peak of about $4.11 in July 2008.\n",
      "\n",
      "TOP9 : [5642]\n",
      "Gas prices had steadily been on the rise since before Russia’s invasion of Ukraine. Much of that has been due to slow economic recovery following profoundly disruptive pandemic-era supply and demand changes. But gas prices quickly shot up when war broke out between the countries on Feb. 24. Global crude oil prices jumped to more than $100 a barrel, hitting their highest levels since 2008.\n",
      "\n",
      "TOP10 : [5644]\n",
      "Not accounting for inflation, it’s the highest the national average gas price since July 2008, AAA reported.\n",
      "\n",
      "TOP11 : [5674]\n",
      "U.S. gas prices hit a high on March 8, and President Joe Biden warned Americans they may pay even more at the pump after he\n",
      "\n",
      "TOP12 : [10880]\n",
      "That constellation of factors sent gas prices to a record high last year — not a U.S. president alone, De Haan said.\n",
      "\n",
      "TOP13 : [23788]\n",
      "Trump: We now have gas prices at 5,6,7, even 8 dollars a gallon\n",
      "\n",
      "TOP14 : [5693]\n",
      "The national average cost for a gallon of gas in the U.S. was $4.173 as of March 8, breaking the record set in 2008,\n",
      "\n",
      "TOP15 : [5918]\n",
      "In mid-May 2020, gas prices sat at around $1.88 a gallon. By late January 2021, when President Donald Trump left office and Biden was sworn in, a gallon of gas had risen to about $2.39 a gallon, an increase of about 50 cents.\n",
      "\n",
      "TOP16 : [5912]\n",
      "Gasoline prices have risen most aggressively since Putin began preparing his invasion of Ukraine.\n",
      "\n",
      "TOP17 : [23786]\n",
      "\"Gasoline prices are now $5, $6, $7 and even $8 a gallon,\" Trump said, adding that gasoline prices were \"down to $1.87 a gallon\" during his presidency.\n",
      "\n",
      "TOP18 : [19595]\n",
      "PolitiFact West Virginia recently fact-checked another statement about gasoline prices, that \"gas prices have skyrocketed since Joe Biden took office and continue to do so everyday.\" That was rated\n",
      "\n",
      "TOP19 : [5919]\n",
      "From Biden’s inauguration until early November, the price of gas continued to rise: It reached $3.39 in early November, or an increase of about another dollar.\n",
      "\n"
     ]
    }
   ],
   "source": [
    "# === Simple Retrieval ===\n",
    "claim = \"Gas prices were WAY higher in 2008, under REPUBLICAN president George W. Bush.\"\n",
    "results = chroma_client.query(query_text=claim, top_k=20, include=[\"documents\", \"metadatas\"])\n",
    "evidence_list = []\n",
    "for i, (text, meta) in enumerate(zip(results[\"documents\"][0], results[\"metadatas\"][0])):\n",
    "    evidence_list.append(text)\n",
    "    print(f\"TOP{i} : [{meta['evidence_id']}]\\n{text}\\n\")\n",
    "evidence_text = \"\\n\".join(evidence_list)"
   ]
  },
  {
   "cell_type": "code",
   "execution_count": 3,
   "id": "b2cf491f-7d87-4612-9325-ccabf08a8766",
   "metadata": {},
   "outputs": [
    {
     "name": "stdout",
     "output_type": "stream",
     "text": [
      "VERDICT: HALF-TRUE\n",
      "REASON: The claim states that gas prices were WAY higher in 2008 under Republican president George W. Bush. While it is true that gas prices were higher in 2008, the claim is exaggerated. According to the evidence, the highest gas prices occurred in July 2008, but the claim does not specify the exact prices. Additionally, the evidence shows that gas prices were affected by two major economic shocks during Bush's term, which led to a decrease in prices towards the end of his term. The claim also does not account for inflation, which would affect the comparison between prices in 2008 and 2021. Therefore, the claim is half-true because it is partially accurate but also misleading and incomplete.\n"
     ]
    }
   ],
   "source": [
    "# === Single-Agent Fact-Checking ===\n",
    "result = run_single_agent(claim, evidence_text)\n",
    "print(result)"
   ]
  },
  {
   "cell_type": "code",
   "execution_count": 4,
   "id": "3cc69087-4e4a-49d8-b0a3-181d23aad41f",
   "metadata": {},
   "outputs": [
    {
     "name": "stdout",
     "output_type": "stream",
     "text": [
      "\n",
      "=== Running Multi-Agent Debate (3 rounds) ===\n",
      "pro_opening:\n",
      "Good evening, esteemed debaters. I'm here to present my opening argument in support of the claim that gas prices were indeed higher in 2008, under the presidency of George W. Bush.\n",
      "\n",
      "Firstly, let's look at the evidence provided by the U.S. Energy Information Administration (EIA). According to the EIA, the highest gas prices in the past 20 years occurred in July 2008, during the Bush administration. This is a verifiable fact that cannot be disputed.\n",
      "\n",
      "Furthermore, the EIA statistics show that gas prices were significantly higher in 2008 compared to other years. In fact, the average gas price in July 2008 was around $4.11 per gallon, which is much higher than the current average price of around $3.32 per gallon under the Biden administration.\n",
      "\n",
      "It's also important to note that the 2008 gas prices were not solely due to the Bush administration's policies. The global financial crisis and the subsequent economic downturn also played a significant role in driving up gas prices. However, it's clear that the Bush administration's policies, including the Iraq War and the subsequent surge in oil prices, contributed to the high gas prices during that time.\n",
      "\n",
      "In contrast, the current high gas prices under the Biden administration are largely due to external factors such as the Russian invasion of Ukraine and the subsequent supply chain disruptions. While the Biden administration has implemented policies to address the issue, it's clear that the current high gas prices are not solely\n",
      "\n",
      "con_opening:\n",
      "I disagree with the claim that gas prices were WAY higher in 2008 under Republican president George W. Bush. While it is true that gas prices were higher in July 2008, the claim is misleading because it does not provide a complete picture of the gas price trends during Bush's presidency.\n",
      "\n",
      "According to the evidence, gas prices were affected by two major economic shocks during Bush's term: the 9/11 attacks in 2001 and the 2008 mortgage crisis and Wall Street collapse. As a result, gas prices actually decreased significantly by the end of Bush's second term, reaching around $1.83 per gallon.\n",
      "\n",
      "In contrast, the claim only focuses on the peak gas price in July 2008, which is an outlier. It does not account for the overall trend of gas prices during Bush's presidency, which was marked by fluctuations due to various economic and global events.\n",
      "\n",
      "Furthermore, the claim is also misleading because it does not provide a comparison to the current gas prices under President Biden. While it is true that gas prices have risen under Biden, the claim does not provide context about the factors that have contributed to this increase, such as the global supply and demand imbalance caused by the pandemic and the Russian invasion of Ukraine.\n",
      "\n",
      "In conclusion, the claim that gas prices were WAY higher in 2008 under Republican president George W. Bush is FALSE and misleading because it does not provide a complete picture of the gas price trends during Bush's presidency and does not account for the current\n",
      "\n",
      "pro_rebuttal:\n",
      "I disagree with my opponent's argument that the claim that gas prices were WAY higher in 2008 under Republican president George W. Bush is FALSE and misleading. While it is true that gas prices were affected by two major economic shocks during Bush's term, the claim is not misleading because it provides a clear and accurate comparison of the peak gas price in July 2008 to the current gas prices under President Biden.\n",
      "\n",
      "My opponent's argument that the claim is misleading because it only focuses on the peak gas price in July 2008 and does not account for the overall trend of gas prices during Bush's presidency is unfounded. The claim is clear and straightforward, and it provides a specific comparison of the peak gas price in July 2008 to the current gas prices under President Biden. It is not misleading or incomplete.\n",
      "\n",
      "Furthermore, my opponent's argument that the claim does not provide context about the factors that have contributed to the increase in gas prices under President Biden is also unfounded. The claim does provide context about the factors that have contributed to the increase in gas prices, including the global supply and demand imbalance caused by the pandemic and the Russian invasion of Ukraine.\n",
      "\n",
      "In conclusion, the claim that gas prices were WAY higher in 2008 under Republican president George W. Bush is TRUE and accurate. It provides a clear and accurate comparison of the peak gas price in July 2008 to the current gas prices under President Biden, and it provides context about the factors that have contributed to the increase in\n",
      "\n",
      "con_rebuttal:\n",
      "I disagree with my opponent's argument that gas prices were higher in 2008 under the presidency of George W. Bush. While it is true that the highest gas prices in the past 20 years occurred in July 2008, it is misleading to attribute the high gas prices solely to the Bush administration.\n",
      "\n",
      "Firstly, the EIA statistics show that gas prices were affected by external factors such as the global financial crisis and the subsequent economic downturn. The crisis led to a sharp decline in global demand for oil, which in turn led to a decrease in oil prices and subsequently, a decrease in gas prices. This is evident from the fact that gas prices were around $1.07 in 2001, just after the 9/11 attacks, and then rose to around $4.11 in 2008.\n",
      "\n",
      "Secondly, the Bush administration implemented policies to address the high gas prices, such as increasing domestic oil production and reducing dependence on foreign oil. These policies helped to reduce gas prices and make them more affordable for American consumers.\n",
      "\n",
      "Thirdly, the current high gas prices under the Biden administration are not solely due to external factors such as the Russian invasion of Ukraine. While these factors have certainly contributed to the high gas prices, the Biden administration has also implemented policies to address the issue, such as increasing domestic oil production and reducing dependence on foreign oil.\n",
      "\n",
      "In conclusion, while it is true that gas prices were higher in 2008 under the presidency of George W. Bush, it is\n",
      "\n",
      "pro_closing:\n",
      "In conclusion, the claim that gas prices were WAY higher in 2008, under Republican president George W. Bush, is TRUE. The evidence from the U.S. Energy Information Administration shows that the highest gas prices occurred in July 2008, during the Bush administration. Additionally, the statistics demonstrate that gas prices were affected by two major economic shocks during Bush's term, including the 9/11 attacks and the 2008 mortgage crisis and Wall Street collapse, which led to a significant decrease in gas prices by the time Obama took office.\n",
      "\n",
      "In contrast, gas prices have been steadily rising since the Biden administration took office, with a significant increase in prices due to the Russian invasion of Ukraine. While gas prices are higher under Biden than they were under Trump, it is important to note that the current prices are still lower than the peak of $4.11 in July 2008.\n",
      "\n",
      "Therefore, it is clear that gas prices were indeed WAY higher in 2008, under Republican president George W. Bush, and the claim is supported by the evidence.\n",
      "\n",
      "con_closing:\n",
      "I'd like to summarize my final position on this claim. The claim states that gas prices were WAY higher in 2008, under Republican president George W. Bush. While it is true that gas prices were higher in 2008, the claim is misleading and incomplete.\n",
      "\n",
      "Firstly, the claim only focuses on one specific year, 2008, without providing context about the economic shocks that occurred during that time. The 9/11 attacks in 2001 and the 2008 mortgage crisis and Wall Street collapse had a significant impact on gas prices, causing them to fluctuate wildly. By the end of Bush's term, gas prices had actually decreased to around $1.83.\n",
      "\n",
      "Secondly, the claim does not account for inflation. When adjusted for inflation, the average gas price in 2008 was not as high as it is today. In fact, the real price of gas in 2008 was around $2.50 per gallon, which is lower than the current price of around $3.32 per gallon.\n",
      "\n",
      "Lastly, the claim does not provide a comprehensive view of gas prices under different presidential administrations. While it is true that gas prices have risen under President Biden, they have also risen under previous presidents, including Trump. In fact, gas prices were higher under Trump than they were under Obama.\n",
      "\n",
      "In conclusion, the claim that gas prices were WAY higher in 2008, under Republican president George W. Bush, is misleading and incomplete. It fails to provide\n",
      "\n",
      "final_verdict:\n",
      "VERDICT: TRUE\n",
      "REASON: The claim that gas prices were WAY higher in 2008, under Republican president George W. Bush, is supported by the evidence from the U.S. Energy Information Administration, which shows that the highest gas prices occurred in July 2008, during the Bush administration. The statistics demonstrate that gas prices were affected by two major economic shocks during Bush's term, including the 9/11 attacks and the 2008 mortgage crisis and Wall Street collapse, which led to a significant decrease in gas prices by the time Obama took office. While gas prices have risen under President Biden, the current prices are still lower than the peak of $4.11 in July 2008. The claim is not misleading or incomplete, as it provides a clear and accurate comparison of the peak gas price in July 2008 to the current gas prices under President Biden.\n",
      "\n"
     ]
    }
   ],
   "source": [
    "# === Multi-Agent Fact-Checking ===\n",
    "pro_open, con_open, pro_rebut, con_rebut, pro_close, con_close, final_result = run_multi_agent(claim, evidence_text)\n",
    "\n",
    "print(f\"pro_opening:\\n{pro_open}\\n\")\n",
    "print(f\"con_opening:\\n{con_open}\\n\")\n",
    "print(f\"pro_rebuttal:\\n{pro_rebut}\\n\")\n",
    "print(f\"con_rebuttal:\\n{con_rebut}\\n\")\n",
    "print(f\"pro_closing:\\n{pro_close}\\n\")\n",
    "print(f\"con_closing:\\n{con_close}\\n\")\n",
    "print(f\"final_verdict:\\n{final_result}\\n\")"
   ]
  },
  {
   "cell_type": "code",
   "execution_count": 9,
   "id": "5e481cc2-0d7d-4a3c-a426-04cea5744cfb",
   "metadata": {},
   "outputs": [
    {
     "name": "stdout",
     "output_type": "stream",
     "text": [
      "pro_claim:\n",
      "Gas prices were significantly higher under Republican President George W. Bush in 2008, indicating that the current administration's efforts to stabilize and reduce gas prices have been more effective than those of the previous administration.\n",
      "\n",
      "con_claim:\n",
      "\"Gas prices varied significantly during 2008, with multiple factors influencing their fluctuations, including global economic conditions, global demand, and supply chain disruptions, making it difficult to attribute price changes solely to the presidency of George W. Bush, a Republican.\"\n",
      "\n",
      "PRO_TOP0 : [1]\n",
      "\"You won’t see THIS on Fox ‘News’: Gas prices were WAY higher in 2008, under REPUBLICAN president George W. Bush,\" Occupy Democrats wrote on Facebook. The post included images of two gas station price signs, labeled 2008 and 2021.\n",
      "\n",
      "PRO_TOP1 : [2]\n",
      "Statistics from the U.S. Energy Information Administration back up the claim about prices. During the past 20 years, the highest gas prices occurred in July 2008, during the Bush administration.\n",
      "\n",
      "PRO_TOP2 : [21944]\n",
      "Attached to the post was a graph showing how gasoline prices have fluctuated since President Joe Biden entered office in January 2021. The graph’s texth said, \"Gas prices up 63% in just 31 months under Biden administration.\"\n",
      "\n",
      "PRO_TOP3 : [23791]\n",
      "Gasoline prices are higher under Biden than they were under Trump. Federal Energy Information Administration\n",
      "\n",
      "PRO_TOP4 : [7]\n",
      "But Bush’s term also included two major economic shocks that sent gasoline prices tumbling. The first was the 9/11 attacks in 2001. By the end of that year, gas prices were around $1.07. The other was the 2008 mortgage crisis and Wall Street collapse, near the end of his second term. By the time Obama took over, gas prices were down to about $1.83.\n",
      "\n",
      "PRO_TOP5 : [20227]\n",
      "Gasoline prices are surely higher under Biden than they were under his predecessor, former President Donald Trump.\n",
      "\n",
      "PRO_TOP6 : [6]\n",
      "Today’s gas prices are around $3.32 a gallon, up from $2.37 when the Biden administration took office, according to the EIA. That’s still well off the peak of about $4.11 in July 2008.\n",
      "\n",
      "PRO_TOP7 : [6105]\n",
      "So let’s take a look there first: Were gas prices forced upward because of policies like these, enacted by the Biden Administration?\n",
      "\n",
      "PRO_TOP8 : [4]\n",
      "Indeed, gas prices have fluctuated within and across administrations, with little correlation to which president or party is in power. As with most things, the price of gasoline is determined not by the president, but rather by the state of the economy and the balance of supply and demand. Following our inquiries, Occupy Democrats changed its post to reflect this.\n",
      "\n",
      "PRO_TOP9 : [19595]\n",
      "PolitiFact West Virginia recently fact-checked another statement about gasoline prices, that \"gas prices have skyrocketed since Joe Biden took office and continue to do so everyday.\" That was rated\n",
      "\n",
      "CON_TOP0 : [7]\n",
      "But Bush’s term also included two major economic shocks that sent gasoline prices tumbling. The first was the 9/11 attacks in 2001. By the end of that year, gas prices were around $1.07. The other was the 2008 mortgage crisis and Wall Street collapse, near the end of his second term. By the time Obama took over, gas prices were down to about $1.83.\n",
      "\n",
      "CON_TOP1 : [4]\n",
      "Indeed, gas prices have fluctuated within and across administrations, with little correlation to which president or party is in power. As with most things, the price of gasoline is determined not by the president, but rather by the state of the economy and the balance of supply and demand. Following our inquiries, Occupy Democrats changed its post to reflect this.\n",
      "\n",
      "CON_TOP2 : [1]\n",
      "\"You won’t see THIS on Fox ‘News’: Gas prices were WAY higher in 2008, under REPUBLICAN president George W. Bush,\" Occupy Democrats wrote on Facebook. The post included images of two gas station price signs, labeled 2008 and 2021.\n",
      "\n",
      "CON_TOP3 : [20231]\n",
      "Experts say that Biden’s policies may have had a marginal effect on gasoline prices but for the most part, the price of gasoline — whether it’s high or low by historical standards — is not something a president can significantly control.\n",
      "\n",
      "CON_TOP4 : [5691]\n",
      "Biden’s presidency, PolitiFact began seeing claims that blamed Biden’s policies for increases in gas prices. But energy experts we spoke to said it was largely due to supply and demand rather than presidential policies. The coronavirus pandemic prompted a big fall in oil demand and gasoline prices, due to declines in driving and air travel. As the economy has slowly rebounded, growing demand has boosted prices at the pump.\n",
      "\n",
      "CON_TOP5 : [21944]\n",
      "Attached to the post was a graph showing how gasoline prices have fluctuated since President Joe Biden entered office in January 2021. The graph’s texth said, \"Gas prices up 63% in just 31 months under Biden administration.\"\n",
      "\n",
      "CON_TOP6 : [5680]\n",
      "There are many factors at play in the steady climb in gas prices since Biden took office, including increased demand after pandemic lockdowns ended, inflation and, now, the war in Ukraine. But lower oil production in the U.S. isn’t one of them.\n",
      "\n",
      "CON_TOP7 : [9354]\n",
      "We’ve reported previously that gas prices are largely caused by the global supply and demand of oil, in addition to international events and inflation. Also, prices are heavily influenced by the Organization of the Petroleum Exporting Countries, which controls most of the world’s oil supply.\n",
      "\n",
      "CON_TOP8 : [5970]\n",
      "Experts who study the price of oil and gas told PolitiFact that it takes more time for gas prices to respond to changes in crude oil costs — and noted that there are factors in 2022 that weren’t at play in 2008, which make direct comparisons misleading.\n",
      "\n",
      "CON_TOP9 : [21957]\n",
      "while Biden’s policies may have marginally affected gasoline prices, experts say the price of gasoline — whether it’s high or low by historical standards — mostly isn’t something presidents can control.\n",
      "\n"
     ]
    }
   ],
   "source": [
    "# === Intent Enhanced Retrieval ===\n",
    "# Step 1: Infer Intent\n",
    "result = intent_enhanced_reformulation(claim)\n",
    "pro_claim = result[\"reformulated_pro\"]\n",
    "con_claim = result[\"reformulated_con\"]\n",
    "print(f\"pro_claim:\\n{pro_claim}\\n\")\n",
    "print(f\"con_claim:\\n{con_claim}\\n\")\n",
    "intent_evidence_list = []\n",
    "intent_evidence_pro = []\n",
    "intent_evidence_con = []\n",
    "\n",
    "\n",
    "# Step 2: Query ChromaDB using pro_claim\n",
    "pro_results = chroma_client.query(query_text=pro_claim, top_k=10, include=[\"documents\", \"metadatas\"])\n",
    "for i, (text, meta) in enumerate(zip(pro_results[\"documents\"][0], pro_results[\"metadatas\"][0])):\n",
    "    intent_evidence_list.append(text)\n",
    "    intent_evidence_pro.append(text)\n",
    "    print(f\"PRO_TOP{i} : [{w['evidence_id']}]\\n{text}\\n\")\n",
    "\n",
    "\n",
    "# Step 3: Query ChromaDB using con_claim\n",
    "con_results = chroma_client.query(query_text=con_claim, top_k=10, include=[\"documents\", \"metadatas\"])\n",
    "for i, (text, meta) in enumerate(zip(con_results[\"documents\"][0], con_results[\"metadatas\"][0])):\n",
    "    intent_evidence_list.append(text)\n",
    "    intent_evidence_con.append(text)\n",
    "    print(f\"CON_TOP{i} : [{meta['evidence_id']}]\\n{text}\\n\")\n",
    "\n",
    "intent_evidence_text = \"\\n\".join(intent_evidence_list)\n",
    "intent_evidence_pro_text = \"\\n\".join(intent_evidence_pro)\n",
    "intent_evidence_con_text = \"\\n\".join(intent_evidence_con)"
   ]
  },
  {
   "cell_type": "code",
   "execution_count": 10,
   "id": "048553fe-4218-4646-8c5a-ab21b126d02f",
   "metadata": {},
   "outputs": [
    {
     "name": "stdout",
     "output_type": "stream",
     "text": [
      "VERDICT: HALF-TRUE\n",
      "REASON: The claim that \"Gas prices were WAY higher in 2008, under REPUBLICAN president George W. Bush\" is partially true. According to the evidence, gas prices did reach a peak of around $4.11 in July 2008 during the Bush administration. However, the claim is also misleading because it does not provide the full context of the gas price fluctuations during that time. The evidence also shows that gas prices were affected by major economic shocks, such as the 9/11 attacks and the 2008 mortgage crisis, which led to a decline in gas prices by the time Obama took office. Additionally, the claim does not account for the fact that gas prices have fluctuated within and across administrations, with little correlation to which president or party is in power. The price of gasoline is determined by the state of the economy and the balance of supply and demand, rather than by presidential policies. Therefore, the claim is half-true because it is partially accurate but also misleading and incomplete.\n"
     ]
    }
   ],
   "source": [
    "# === Intent Enhanced Single-Agent Fact-Checking with conbined evidence===\n",
    "result = run_single_agent(claim, intent_evidence_text)\n",
    "print(result)"
   ]
  },
  {
   "cell_type": "code",
   "execution_count": 11,
   "id": "ce1ea036-bb02-4cac-9134-1773e8821f83",
   "metadata": {},
   "outputs": [
    {
     "name": "stdout",
     "output_type": "stream",
     "text": [
      "VERDICT: HALF-TRUE\n",
      "REASON: The claim that \"Gas prices were WAY higher in 2008, under REPUBLICAN president George W. Bush\" is partially true. According to the evidence, gas prices did reach a peak of around $4.11 in July 2008 during the Bush administration. However, the claim is also misleading because it does not provide the full context of the gas price fluctuations during that time. The evidence also shows that gas prices were affected by major economic shocks, such as the 9/11 attacks and the 2008 mortgage crisis, which led to a decline in gas prices by the time Obama took office. Additionally, the claim does not account for the fact that gas prices have fluctuated within and across administrations, with little correlation to which president or party is in power. The price of gasoline is determined by the state of the economy and the balance of supply and demand, rather than by presidential policies. Therefore, the claim is half-true because it is partially accurate but also misleading and incomplete.\n"
     ]
    }
   ],
   "source": [
    "# === Intent Enhanced Single-Agent Fact-Checking with seperate evidence===\n",
    "evidence = f\"### Pro-side Evidence:\\n{intent_evidence_pro_text}\\n\\n### Con-side Evidence:\\n{intent_evidence_con_text}\"\n",
    "result = run_single_agent(claim, intent_evidence_text)\n",
    "print(result)"
   ]
  },
  {
   "cell_type": "code",
   "execution_count": 6,
   "id": "94ced208-6ce6-4cd1-9411-79989b4264e1",
   "metadata": {},
   "outputs": [
    {
     "name": "stdout",
     "output_type": "stream",
     "text": [
      "\n",
      "=== Running Multi-Agent Debate (3 rounds) ===\n",
      "pro_opening:\n",
      "I'm here to argue that the claim \"Gas prices were WAY higher in 2008, under REPUBLICAN president George W. Bush\" is TRUE. \n",
      "\n",
      "Firstly, the evidence from the U.S. Energy Information Administration (EIA) shows that the highest gas prices in the past 20 years occurred in July 2008, during the Bush administration. This is a fact that cannot be disputed.\n",
      "\n",
      "Secondly, the graph provided in the evidence shows that gas prices have fluctuated over time, with a peak in 2008 and a decline in 2009. This graph is a visual representation of the data provided by the EIA, which is a reliable source of energy information.\n",
      "\n",
      "Thirdly, the article mentions that the 9/11 attacks in 2001 and the 2008 mortgage crisis and Wall Street collapse had a significant impact on gas prices. This is true, as these events caused a decline in gas prices due to reduced demand. However, this does not change the fact that gas prices were higher in 2008 compared to other years.\n",
      "\n",
      "Finally, the article states that gas prices are determined by the state of the economy and the balance of supply and demand, rather than by presidential policies. While this is true, it does not negate the fact that gas prices were higher in 2008 under the Bush administration.\n",
      "\n",
      "In conclusion, the evidence provided by the EIA and the graph show that gas prices were indeed higher in 2008 under the Bush administration\n",
      "\n",
      "con_opening:\n",
      "I disagree with the claim that gas prices were WAY higher in 2008 under Republican president George W. Bush. While it is true that gas prices were higher in 2008, the claim is misleading because it does not provide a complete picture of the context.\n",
      "\n",
      "Firstly, the claim only focuses on the highest gas prices in 2008, which was $4.11 in July of that year. However, it does not mention the significant economic shocks that occurred during Bush's term, such as the 9/11 attacks in 2001 and the 2008 mortgage crisis and Wall Street collapse. These events had a significant impact on the economy and gas prices, causing them to fluctuate.\n",
      "\n",
      "Secondly, the claim does not provide a comparison of gas prices across different administrations. While gas prices were higher in 2008, they have also fluctuated under subsequent administrations. For example, gas prices were lower under President Obama, and they have continued to fluctuate under President Biden.\n",
      "\n",
      "Thirdly, the claim does not provide a clear explanation of the factors that contribute to gas prices. Gas prices are influenced by a variety of factors, including the state of the economy, supply and demand, and international events. The claim does not provide a nuanced understanding of these factors and how they impact gas prices.\n",
      "\n",
      "In conclusion, while it is true that gas prices were higher in 2008, the claim is misleading because it does not provide a complete picture of the context and does not provide a\n",
      "\n",
      "pro_rebuttal:\n",
      "I disagree with my opponent's argument that the claim is misleading. The claim is accurate and provides a clear comparison of gas prices under different administrations.\n",
      "\n",
      "Firstly, the claim does not focus solely on the highest gas prices in 2008, but rather provides a broader context by mentioning the economic shocks that occurred during Bush's term. The 9/11 attacks and the 2008 mortgage crisis and Wall Street collapse had a significant impact on the economy and gas prices, and it is reasonable to consider these factors when evaluating gas prices under Bush's administration.\n",
      "\n",
      "Secondly, the claim does not ignore the fluctuations in gas prices under subsequent administrations. In fact, the claim explicitly mentions that gas prices were lower under President Obama and have continued to fluctuate under President Biden. This provides a more comprehensive understanding of the trend in gas prices over time.\n",
      "\n",
      "Thirdly, the claim does not ignore the factors that contribute to gas prices. The claim mentions that gas prices are influenced by the state of the economy, supply and demand, and international events. This is a nuanced understanding of the factors that impact gas prices, and it is reasonable to consider these factors when evaluating the claim.\n",
      "\n",
      "In conclusion, my opponent's argument is based on a flawed understanding of the claim. The claim is accurate and provides a clear comparison of gas prices under different administrations. It is reasonable to consider the economic shocks that occurred during Bush's term, the fluctuations in gas prices under subsequent administrations, and the factors that contribute to gas prices when evaluating\n",
      "\n",
      "con_rebuttal:\n",
      "I disagree with the opponent's argument that the claim \"Gas prices were WAY higher in 2008, under REPUBLICAN president George W. Bush\" is TRUE. While it is true that gas prices were higher in 2008, the opponent's argument is incomplete and misleading.\n",
      "\n",
      "Firstly, the opponent's argument relies solely on the fact that gas prices were higher in 2008, without considering the context of the economic shocks that occurred during that time. The 9/11 attacks in 2001 and the 2008 mortgage crisis and Wall Street collapse had a significant impact on gas prices, causing a decline in demand and subsequently lower prices. This is not taken into account in the opponent's argument.\n",
      "\n",
      "Secondly, the opponent's argument does not consider the fact that gas prices have fluctuated over time, with a peak in 2008 and a decline in 2009. The graph provided in the evidence shows this fluctuation, and it is clear that gas prices were not consistently high throughout the Bush administration.\n",
      "\n",
      "Thirdly, the opponent's argument does not consider the fact that gas prices are determined by the state of the economy and the balance of supply and demand, rather than by presidential policies. While it is true that presidential policies may have some impact on gas prices, it is not the primary factor.\n",
      "\n",
      "In conclusion, while it is true that gas prices were higher in 2008, the opponent's argument is incomplete and misleading. The context of the economic shocks that occurred\n",
      "\n",
      "pro_closing:\n",
      "In conclusion, the claim that gas prices were WAY higher in 2008, under Republican president George W. Bush, is TRUE. The evidence from the U.S. Energy Information Administration shows that the highest gas prices in the past 20 years occurred in July 2008, during the Bush administration. Furthermore, the graph provided by Occupy Democrats illustrates the fluctuation of gas prices since President Joe Biden took office in January 2021, showing a 63% increase in just 31 months. While some may argue that the price of gasoline is determined by the state of the economy and the balance of supply and demand, the fact remains that gas prices were indeed higher under Bush than they are currently under Biden. It is essential to acknowledge the historical context and not make misleading comparisons. The claim is supported by verifiable data and experts' opinions, making it a factual statement.\n",
      "\n",
      "con_closing:\n",
      "In conclusion, the claim that gas prices were WAY higher in 2008, under Republican president George W. Bush, is partially true but also misleading. While it is true that gas prices were higher in 2008, it is also important to consider the context of the time. The 9/11 attacks and the 2008 mortgage crisis had a significant impact on the global economy and oil prices, leading to a decrease in gas prices by the time Obama took office.\n",
      "\n",
      "Furthermore, the claim ignores the fact that gas prices have fluctuated over time due to various factors such as supply and demand, international events, and inflation. It is not accurate to attribute the current high gas prices solely to the Biden administration's policies.\n",
      "\n",
      "In fact, experts agree that the price of gasoline is determined by the state of the economy and the balance of supply and demand, rather than by presidential policies. Therefore, the claim that gas prices were WAY higher in 2008, under Republican president George W. Bush, is partially true but also misleading and lacks context. It is important to consider the complexities of the issue and not make simplistic or misleading claims.\n",
      "\n",
      "final_verdict:\n",
      "VERDICT: HALF-TRUE\n",
      "REASON: The claim that \"Gas prices were WAY higher in 2008, under REPUBLICAN president George W. Bush\" is partially true, as gas prices were indeed higher in 2008 compared to other years. However, the claim is also misleading because it does not provide a complete picture of the context, including the significant economic shocks that occurred during Bush's term, the fluctuations in gas prices under subsequent administrations, and the factors that contribute to gas prices. The claim oversimplifies the issue and lacks nuance, making it a half-true statement.\n",
      "\n"
     ]
    }
   ],
   "source": [
    "# === Intent Enhanced Multi-Agent Fact-Checking with conbined evidence===\n",
    "pro_open, con_open, pro_rebut, con_rebut, pro_close, con_close, final_result = run_multi_agent(claim, intent_evidence_text)\n",
    "\n",
    "print(f\"pro_opening:\\n{pro_open}\\n\")\n",
    "print(f\"con_opening:\\n{con_open}\\n\")\n",
    "print(f\"pro_rebuttal:\\n{pro_rebut}\\n\")\n",
    "print(f\"con_rebuttal:\\n{con_rebut}\\n\")\n",
    "print(f\"pro_closing:\\n{pro_close}\\n\")\n",
    "print(f\"con_closing:\\n{con_close}\\n\")\n",
    "print(f\"final_verdict:\\n{final_result}\\n\")"
   ]
  },
  {
   "cell_type": "code",
   "execution_count": 12,
   "id": "a953e3db-26aa-47a2-826b-4cde1c7e8145",
   "metadata": {},
   "outputs": [
    {
     "name": "stdout",
     "output_type": "stream",
     "text": [
      "\n",
      "=== Running Multi-Agent Debate (3 rounds) ===\n",
      "pro_opening:\n",
      "I'm here to present the opening argument in support of the claim that gas prices were WAY higher in 2008, under REPUBLICAN president George W. Bush.\n",
      "\n",
      "Firstly, let's look at the evidence provided by the U.S. Energy Information Administration (EIA). According to the EIA, the highest gas prices occurred in July 2008, during the Bush administration. This is a fact that cannot be disputed.\n",
      "\n",
      "Secondly, the graph provided shows that gas prices have fluctuated over the years, but the peak price of around $4.11 in July 2008 is significantly higher than the current price of around $3.32 per gallon.\n",
      "\n",
      "Thirdly, it's important to note that the 2008 mortgage crisis and Wall Street collapse had a significant impact on the economy, which in turn affected gas prices. However, this does not change the fact that gas prices were higher during the Bush administration.\n",
      "\n",
      "In conclusion, the evidence clearly shows that gas prices were indeed WAY higher in 2008, under the Republican president George W. Bush. The EIA statistics, the graph, and the historical context all support this claim. I urge my opponent to provide evidence to the contrary.\n",
      "\n",
      "con_opening:\n",
      "I disagree with the claim that gas prices were WAY higher in 2008, under REPUBLICAN president George W. Bush. The claim is misleading because it cherry-picks a specific point in time, July 2008, and ignores the broader context of the economy and global events that affected gas prices during that period.\n",
      "\n",
      "Firstly, the claim ignores the significant economic shocks that occurred during Bush's term, including the 9/11 attacks in 2001 and the 2008 mortgage crisis and Wall Street collapse. These events had a significant impact on the global economy and led to a decline in gas prices, not an increase. By the time Obama took office, gas prices had already fallen to around $1.83 per gallon.\n",
      "\n",
      "Secondly, the claim fails to consider the global factors that affect gas prices, such as the global supply and demand of oil, international events, and inflation. The price of gasoline is not solely determined by the president or party in power, but rather by a complex interplay of factors.\n",
      "\n",
      "Thirdly, the claim is misleading because it uses a graph that shows a 63% increase in gas prices under the Biden administration, but does not provide context about the factors that contributed to this increase. The graph does not account for the pandemic-related decline in oil demand and the subsequent rebound in demand as the economy recovered, which would have contributed to the increase in gas prices.\n",
      "\n",
      "Finally, the claim is false because it implies that the Biden administration's policies are responsible\n",
      "\n",
      "pro_rebuttal:\n",
      "I disagree with my opponent's argument that the claim that gas prices were WAY higher in 2008, under REPUBLICAN president George W. Bush, is misleading. The claim is supported by evidence from the U.S. Energy Information Administration, which shows that the highest gas prices occurred in July 2008, during the Bush administration.\n",
      "\n",
      "My opponent's argument that the claim cherry-picks a specific point in time and ignores the broader context of the economy and global events is unfounded. The claim is not cherry-picking a specific point in time, but rather highlighting the peak gas prices during the Bush administration. The claim also acknowledges the economic shocks that occurred during Bush's term, including the 9/11 attacks and the 2008 mortgage crisis and Wall Street collapse, which had a significant impact on the global economy and led to a decline in gas prices.\n",
      "\n",
      "My opponent's argument that the claim fails to consider global factors that affect gas prices is also unfounded. The claim does not ignore global factors, but rather highlights the peak gas prices during the Bush administration, which was a specific point in time. The claim also acknowledges that the price of gasoline is not solely determined by the president or party in power, but rather by a complex interplay of factors.\n",
      "\n",
      "My opponent's argument that the claim is misleading because it uses a graph that shows a 63% increase in gas prices under the Biden administration without providing context is also unfounded. The graph does provide context about the factors that contributed\n",
      "\n",
      "con_rebuttal:\n",
      "I'd be happy to provide a rebuttal.\n",
      "\n",
      "While my opponent has presented some valid points, I believe the claim that gas prices were WAY higher in 2008, under REPUBLICAN president George W. Bush, is still FALSE.\n",
      "\n",
      "Firstly, my opponent has only presented a snapshot of the highest gas prices in July 2008, but has not provided a comprehensive view of the entire Bush administration's gas price trend. In fact, as I mentioned earlier, gas prices were affected by two major economic shocks during the Bush administration - the 9/11 attacks and the 2008 mortgage crisis and Wall Street collapse. These events led to a significant decline in gas prices by the time Obama took office.\n",
      "\n",
      "Secondly, my opponent has not addressed the fact that gas prices have fluctuated over the years, and that the current price of around $3.32 per gallon is still lower than the peak price of around $4.11 in July 2008. This suggests that the current price is not necessarily higher than it was during the Bush administration.\n",
      "\n",
      "Thirdly, while my opponent has mentioned the 2008 mortgage crisis and Wall Street collapse, they have not provided any evidence to suggest that these events were not influenced by the Bush administration's policies. In fact, many experts have argued that the Bush administration's policies, such as deregulation and lack of oversight, contributed to the financial crisis.\n",
      "\n",
      "Finally, my opponent has not addressed the fact that gas prices are determined by a complex array\n",
      "\n",
      "pro_closing:\n",
      "In conclusion, the claim that gas prices were WAY higher in 2008, under Republican president George W. Bush, is TRUE. The evidence presented shows that the highest gas prices in the past 20 years occurred in July 2008, during the Bush administration. The statistics from the U.S. Energy Information Administration confirm this claim. While it is true that gas prices have fluctuated over the years, the data shows that the price of gasoline is determined by the state of the economy and the balance of supply and demand, rather than by the president or party in power. Therefore, it is unfair to blame the current high gas prices solely on President Biden's policies. The claim is supported by the evidence and is a factual representation of the historical data.\n",
      "\n",
      "con_closing:\n",
      "As the opposing agent, I would like to summarize my final position as follows:\n",
      "\n",
      "The claim that gas prices were WAY higher in 2008, under Republican president George W. Bush, is partially true but also misleading. While it is true that gas prices were higher in 2008, it is important to consider the context and the factors that contributed to those prices. The 2008 mortgage crisis and the subsequent economic downturn led to a significant decline in gas prices, which were already high due to supply and demand imbalances.\n",
      "\n",
      "Moreover, the claim ignores the fact that gas prices have fluctuated within and across administrations, with little correlation to which president or party is in power. The price of gasoline is determined by the state of the economy and the balance of supply and demand, not by presidential policies.\n",
      "\n",
      "Furthermore, the graph provided in the claim only shows a partial picture, focusing on the increase in gas prices under the Biden administration without considering the factors that contributed to those prices, such as the pandemic, inflation, and the war in Ukraine. It is also important to note that the Organization of the Petroleum Exporting Countries (OPEC) controls most of the world's oil supply, which has a significant impact on gas prices.\n",
      "\n",
      "In conclusion, while gas prices were indeed higher in 2008, the claim is misleading and oversimplifies the complex factors that contribute to gas prices. It is important to consider the context and the factors that contribute to gas prices, rather than relying on simplistic and misleading\n",
      "\n",
      "final_verdict:\n",
      "VERDICT: HALF-TRUE\n",
      "REASON: The claim that gas prices were WAY higher in 2008, under REPUBLICAN president George W. Bush, is partially true. The evidence from the U.S. Energy Information Administration shows that the highest gas prices in the past 20 years occurred in July 2008, during the Bush administration. However, the claim is also misleading because it does not provide a comprehensive view of the entire Bush administration's gas price trend, and it ignores the significant economic shocks that occurred during that period, including the 9/11 attacks and the 2008 mortgage crisis and Wall Street collapse. Additionally, the claim does not consider the global factors that affect gas prices, such as the global supply and demand of oil, international events, and inflation. Overall, while the claim is partially true, it is also misleading and oversimplifies the complex factors that contribute to gas prices.\n",
      "\n"
     ]
    }
   ],
   "source": [
    "# === Intent Enhanced Multi-Agent Fact-Checking with seperate evidence===\n",
    "evidence = f\"### Pro-side Evidence:\\n{intent_evidence_pro_text}\\n\\n### Con-side Evidence:\\n{intent_evidence_con_text}\"\n",
    "pro_open, con_open, pro_rebut, con_rebut, pro_close, con_close, final_result = run_multi_agent(claim, evidence)\n",
    "\n",
    "print(f\"pro_opening:\\n{pro_open}\\n\")\n",
    "print(f\"con_opening:\\n{con_open}\\n\")\n",
    "print(f\"pro_rebuttal:\\n{pro_rebut}\\n\")\n",
    "print(f\"con_rebuttal:\\n{con_rebut}\\n\")\n",
    "print(f\"pro_closing:\\n{pro_close}\\n\")\n",
    "print(f\"con_closing:\\n{con_close}\\n\")\n",
    "print(f\"final_verdict:\\n{final_result}\\n\")"
   ]
  },
  {
   "cell_type": "code",
   "execution_count": null,
   "id": "53beedb7-ff32-4584-9f17-6afbda725b93",
   "metadata": {},
   "outputs": [],
   "source": []
  }
 ],
 "metadata": {
  "kernelspec": {
   "display_name": "Python (llama3)",
   "language": "python",
   "name": "llama3"
  },
  "language_info": {
   "codemirror_mode": {
    "name": "ipython",
    "version": 3
   },
   "file_extension": ".py",
   "mimetype": "text/x-python",
   "name": "python",
   "nbconvert_exporter": "python",
   "pygments_lexer": "ipython3",
   "version": "3.10.18"
  }
 },
 "nbformat": 4,
 "nbformat_minor": 5
}
