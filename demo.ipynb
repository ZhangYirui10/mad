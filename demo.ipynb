{
 "cells": [
  {
   "cell_type": "code",
   "execution_count": 1,
   "id": "7e9d7260-dccc-4c28-85f1-c45d077a2290",
   "metadata": {},
   "outputs": [
    {
     "name": "stdout",
     "output_type": "stream",
     "text": [
      "Visible devices: 1\n",
      "Current device ID: 0\n",
      "Device name: NVIDIA H100 80GB HBM3\n"
     ]
    },
    {
     "data": {
      "application/vnd.jupyter.widget-view+json": {
       "model_id": "a8b94e00df9246339ecaf60a91f0bddd",
       "version_major": 2,
       "version_minor": 0
      },
      "text/plain": [
       "Loading checkpoint shards:   0%|          | 0/4 [00:00<?, ?it/s]"
      ]
     },
     "metadata": {},
     "output_type": "display_data"
    },
    {
     "data": {
      "application/vnd.jupyter.widget-view+json": {
       "model_id": "fe0ab0547c734f159dd31e8008fd28a7",
       "version_major": 2,
       "version_minor": 0
      },
      "text/plain": [
       "Loading checkpoint shards:   0%|          | 0/4 [00:00<?, ?it/s]"
      ]
     },
     "metadata": {},
     "output_type": "display_data"
    },
    {
     "name": "stdout",
     "output_type": "stream",
     "text": [
      "ChromaDB storage path: /home/yirui/mad/chroma/chroma_store/evidence_bgebase\n"
     ]
    }
   ],
   "source": [
    "import os\n",
    "os.environ[\"CUDA_VISIBLE_DEVICES\"] = \"1\" \n",
    "import logging\n",
    "import torch\n",
    "print(\"Visible devices:\", torch.cuda.device_count())\n",
    "print(\"Current device ID:\", torch.cuda.current_device())\n",
    "print(\"Device name:\", torch.cuda.get_device_name(0))\n",
    "from transformers.utils import logging as hf_logging\n",
    "hf_logging.set_verbosity_error() \n",
    "import sys\n",
    "sys.path.append(\".\")\n",
    "from main import run_single_agent, run_multi_agent\n",
    "from chroma.chroma import ChromaClient\n",
    "chroma_store_path = os.path.abspath(\"./chroma/chroma_store/evidence_bgebase\")\n",
    "\n",
    "chroma_client = ChromaClient(vector_name=\"evidence_bgebase\", path=chroma_store_path)\n",
    "\n",
    "print(\"ChromaDB storage path:\", chroma_store_path)"
   ]
  },
  {
   "cell_type": "code",
   "execution_count": 2,
   "id": "38f793ca-d556-40d4-97cc-213b5c269304",
   "metadata": {},
   "outputs": [
    {
     "name": "stdout",
     "output_type": "stream",
     "text": [
      "TOP0 : [1]\n",
      "\"You won’t see THIS on Fox ‘News’: Gas prices were WAY higher in 2008, under REPUBLICAN president George W. Bush,\" Occupy Democrats wrote on Facebook. The post included images of two gas station price signs, labeled 2008 and 2021.\n",
      "\n",
      "TOP1 : [2]\n",
      "Statistics from the U.S. Energy Information Administration back up the claim about prices. During the past 20 years, the highest gas prices occurred in July 2008, during the Bush administration.\n",
      "\n",
      "TOP2 : [7]\n",
      "But Bush’s term also included two major economic shocks that sent gasoline prices tumbling. The first was the 9/11 attacks in 2001. By the end of that year, gas prices were around $1.07. The other was the 2008 mortgage crisis and Wall Street collapse, near the end of his second term. By the time Obama took over, gas prices were down to about $1.83.\n",
      "\n",
      "TOP3 : [20227]\n",
      "Gasoline prices are surely higher under Biden than they were under his predecessor, former President Donald Trump.\n",
      "\n",
      "TOP4 : [23791]\n",
      "Gasoline prices are higher under Biden than they were under Trump. Federal Energy Information Administration\n",
      "\n",
      "TOP5 : [11616]\n",
      "Last year’s soaring gasoline prices\n",
      "\n",
      "TOP6 : [21944]\n",
      "Attached to the post was a graph showing how gasoline prices have fluctuated since President Joe Biden entered office in January 2021. The graph’s texth said, \"Gas prices up 63% in just 31 months under Biden administration.\"\n",
      "\n",
      "TOP7 : [2043]\n",
      "We have previously written that gas prices are currently at their highest levels since 2014, and that the year-over-year rise is among the highest in at least 30 years.\n",
      "\n",
      "TOP8 : [6]\n",
      "Today’s gas prices are around $3.32 a gallon, up from $2.37 when the Biden administration took office, according to the EIA. That’s still well off the peak of about $4.11 in July 2008.\n",
      "\n",
      "TOP9 : [5642]\n",
      "Gas prices had steadily been on the rise since before Russia’s invasion of Ukraine. Much of that has been due to slow economic recovery following profoundly disruptive pandemic-era supply and demand changes. But gas prices quickly shot up when war broke out between the countries on Feb. 24. Global crude oil prices jumped to more than $100 a barrel, hitting their highest levels since 2008.\n",
      "\n",
      "TOP10 : [5644]\n",
      "Not accounting for inflation, it’s the highest the national average gas price since July 2008, AAA reported.\n",
      "\n",
      "TOP11 : [5674]\n",
      "U.S. gas prices hit a high on March 8, and President Joe Biden warned Americans they may pay even more at the pump after he\n",
      "\n",
      "TOP12 : [10880]\n",
      "That constellation of factors sent gas prices to a record high last year — not a U.S. president alone, De Haan said.\n",
      "\n",
      "TOP13 : [23788]\n",
      "Trump: We now have gas prices at 5,6,7, even 8 dollars a gallon\n",
      "\n",
      "TOP14 : [5693]\n",
      "The national average cost for a gallon of gas in the U.S. was $4.173 as of March 8, breaking the record set in 2008,\n",
      "\n",
      "TOP15 : [5918]\n",
      "In mid-May 2020, gas prices sat at around $1.88 a gallon. By late January 2021, when President Donald Trump left office and Biden was sworn in, a gallon of gas had risen to about $2.39 a gallon, an increase of about 50 cents.\n",
      "\n",
      "TOP16 : [5912]\n",
      "Gasoline prices have risen most aggressively since Putin began preparing his invasion of Ukraine.\n",
      "\n",
      "TOP17 : [23786]\n",
      "\"Gasoline prices are now $5, $6, $7 and even $8 a gallon,\" Trump said, adding that gasoline prices were \"down to $1.87 a gallon\" during his presidency.\n",
      "\n",
      "TOP18 : [19595]\n",
      "PolitiFact West Virginia recently fact-checked another statement about gasoline prices, that \"gas prices have skyrocketed since Joe Biden took office and continue to do so everyday.\" That was rated\n",
      "\n",
      "TOP19 : [5919]\n",
      "From Biden’s inauguration until early November, the price of gas continued to rise: It reached $3.39 in early November, or an increase of about another dollar.\n",
      "\n"
     ]
    }
   ],
   "source": [
    "claim = \"Gas prices were WAY higher in 2008, under REPUBLICAN president George W. Bush.\"\n",
    "results = chroma_client.query(query_text=claim, top_k=20, include=[\"documents\", \"metadatas\"])\n",
    "evidence_list = []\n",
    "for i, (text, meta) in enumerate(zip(results[\"documents\"][0], results[\"metadatas\"][0])):\n",
    "    evidence_list.append(text)\n",
    "    print(f\"TOP{i} : [{meta['evidence_id']}]\\n{text}\\n\")\n",
    "evidence_text = \"\\n\".join(evidence_list)"
   ]
  },
  {
   "cell_type": "code",
   "execution_count": 3,
   "id": "b2cf491f-7d87-4612-9325-ccabf08a8766",
   "metadata": {},
   "outputs": [
    {
     "name": "stdout",
     "output_type": "stream",
     "text": [
      "VERDICT: HALF-TRUE\n",
      "REASON: The claim states that gas prices were WAY higher in 2008 under Republican president George W. Bush. While it is true that gas prices were higher in 2008, the claim is exaggerated. According to the evidence, the highest gas prices occurred in July 2008, but the claim does not specify the exact prices. Additionally, the evidence shows that gas prices were affected by two major economic shocks during Bush's term, which led to a decrease in prices towards the end of his term. The claim also does not account for inflation, which would affect the comparison between prices in 2008 and 2021. Therefore, the claim is half-true because it is partially accurate but also misleading and incomplete.\n"
     ]
    }
   ],
   "source": [
    "# === Single-Agent Fact-Checking ===\n",
    "result = run_single_agent(claim, evidence_text)\n",
    "print(result)"
   ]
  },
  {
   "cell_type": "code",
   "execution_count": 5,
   "id": "3cc69087-4e4a-49d8-b0a3-181d23aad41f",
   "metadata": {},
   "outputs": [
    {
     "name": "stdout",
     "output_type": "stream",
     "text": [
      "\n",
      "=== Running Multi-Agent Debate (3 rounds) ===\n",
      "pro_opening:\n",
      "Good evening, esteemed debaters. I'm here to present my opening argument in support of the claim that gas prices were indeed higher in 2008, under the presidency of George W. Bush.\n",
      "\n",
      "Firstly, let's look at the evidence provided by the U.S. Energy Information Administration (EIA). According to the EIA, the highest gas prices in the past 20 years occurred in July 2008, during the Bush administration. This is a verifiable fact that cannot be disputed.\n",
      "\n",
      "Furthermore, the EIA statistics show that gas prices were significantly higher in 2008 compared to other years. In fact, the average gas price in July 2008 was around $4.11 per gallon, which is much higher than the current average price of around $3.32 per gallon under the Biden administration.\n",
      "\n",
      "It's also important to note that the 2008 gas prices were not solely due to the Bush administration's policies. The global financial crisis and the subsequent economic downturn also played a significant role in driving up gas prices. However, it's clear that the Bush administration's policies, including the Iraq War and the subsequent surge in oil prices, contributed to the high gas prices during that time.\n",
      "\n",
      "In contrast, the current high gas prices under the Biden administration are largely due to external factors such as the Russian invasion of Ukraine and the subsequent supply chain disruptions. While the Biden administration has implemented policies to address the issue, it's clear that the current high gas prices are not solely\n",
      "\n",
      "con_opening:\n",
      "I disagree with the claim that gas prices were WAY higher in 2008 under Republican president George W. Bush. While it is true that gas prices were higher in July 2008, the claim is misleading because it does not provide a complete picture of the gas price trends during Bush's presidency.\n",
      "\n",
      "According to the evidence, gas prices were affected by two major economic shocks during Bush's term: the 9/11 attacks in 2001 and the 2008 mortgage crisis and Wall Street collapse. As a result, gas prices actually decreased significantly by the end of Bush's second term, reaching around $1.83 per gallon.\n",
      "\n",
      "In contrast, the claim only focuses on the peak gas price in July 2008, which is an outlier. It does not account for the overall trend of gas prices during Bush's presidency, which was marked by fluctuations due to various economic and global events.\n",
      "\n",
      "Furthermore, the claim is also misleading because it does not provide a comparison to the current gas prices under President Biden. While it is true that gas prices have risen under Biden, the claim does not provide context about the factors that have contributed to this increase, such as the global supply and demand imbalance caused by the pandemic and the Russian invasion of Ukraine.\n",
      "\n",
      "In conclusion, the claim that gas prices were WAY higher in 2008 under Republican president George W. Bush is FALSE and misleading because it does not provide a complete picture of the gas price trends during Bush's presidency and does not account for the current\n",
      "\n",
      "pro_rebuttal:\n",
      "I disagree with my opponent's argument that the claim that gas prices were WAY higher in 2008 under Republican president George W. Bush is FALSE and misleading. While it is true that gas prices were affected by two major economic shocks during Bush's term, the claim is not misleading because it provides a clear and accurate comparison of the peak gas price in July 2008 to the current gas prices under President Biden.\n",
      "\n",
      "My opponent's argument that the claim is misleading because it only focuses on the peak gas price in July 2008 and does not account for the overall trend of gas prices during Bush's presidency is unfounded. The claim is clear and straightforward, and it provides a specific comparison of the peak gas price in July 2008 to the current gas prices under President Biden. It is not misleading or incomplete.\n",
      "\n",
      "Furthermore, my opponent's argument that the claim does not provide context about the factors that have contributed to the increase in gas prices under President Biden is also unfounded. The claim does provide context about the factors that have contributed to the increase in gas prices, including the global supply and demand imbalance caused by the pandemic and the Russian invasion of Ukraine.\n",
      "\n",
      "In conclusion, the claim that gas prices were WAY higher in 2008 under Republican president George W. Bush is TRUE and accurate. It provides a clear and accurate comparison of the peak gas price in July 2008 to the current gas prices under President Biden, and it provides context about the factors that have contributed to the increase in\n",
      "\n",
      "con_rebuttal:\n",
      "I disagree with my opponent's argument that gas prices were higher in 2008 under the presidency of George W. Bush. While it is true that the highest gas prices in the past 20 years occurred in July 2008, it is misleading to attribute the high gas prices solely to the Bush administration.\n",
      "\n",
      "Firstly, the EIA statistics show that gas prices were affected by external factors such as the global financial crisis and the subsequent economic downturn. The crisis led to a sharp decline in global demand for oil, which in turn led to a decrease in oil prices and subsequently, a decrease in gas prices. This is evident from the fact that gas prices were around $1.07 in 2001, just after the 9/11 attacks, and then rose to around $4.11 in 2008.\n",
      "\n",
      "Secondly, the Bush administration implemented policies to address the high gas prices, such as increasing domestic oil production and reducing dependence on foreign oil. These policies helped to reduce gas prices and make them more affordable for American consumers.\n",
      "\n",
      "Thirdly, the current high gas prices under the Biden administration are not solely due to external factors such as the Russian invasion of Ukraine. While these factors have certainly contributed to the high gas prices, the Biden administration has also implemented policies to address the issue, such as increasing domestic oil production and reducing dependence on foreign oil.\n",
      "\n",
      "In conclusion, while it is true that gas prices were higher in 2008 under the presidency of George W. Bush, it is\n",
      "\n",
      "pro_closing:\n",
      "In conclusion, the claim that gas prices were WAY higher in 2008, under Republican president George W. Bush, is TRUE. The evidence from the U.S. Energy Information Administration shows that the highest gas prices occurred in July 2008, during the Bush administration. Additionally, the statistics demonstrate that gas prices were affected by two major economic shocks during Bush's term, including the 9/11 attacks and the 2008 mortgage crisis and Wall Street collapse, which led to a significant decrease in gas prices by the time Obama took office.\n",
      "\n",
      "In contrast, gas prices have been steadily rising since the Biden administration took office, with a significant increase in prices due to the Russian invasion of Ukraine. While gas prices are higher under Biden than they were under Trump, it is important to note that the current prices are still lower than the peak of $4.11 in July 2008.\n",
      "\n",
      "Therefore, it is clear that gas prices were indeed WAY higher in 2008, under Republican president George W. Bush, and the claim is supported by the evidence.\n",
      "\n",
      "con_closing:\n",
      "I'd like to summarize my final position on this claim. The claim states that gas prices were WAY higher in 2008, under Republican president George W. Bush. While it is true that gas prices were higher in 2008, the claim is misleading and incomplete.\n",
      "\n",
      "Firstly, the claim only focuses on one specific year, 2008, without providing context about the economic shocks that occurred during that time. The 9/11 attacks in 2001 and the 2008 mortgage crisis and Wall Street collapse had a significant impact on gas prices, causing them to fluctuate wildly. By the end of Bush's term, gas prices had actually decreased to around $1.83.\n",
      "\n",
      "Secondly, the claim does not account for inflation. When adjusted for inflation, the average gas price in 2008 was not as high as it is today. In fact, the real price of gas in 2008 was around $2.50 per gallon, which is lower than the current price of around $3.32 per gallon.\n",
      "\n",
      "Lastly, the claim does not provide a comprehensive view of gas prices under different presidential administrations. While it is true that gas prices have risen under President Biden, they have also risen under previous presidents, including Trump. In fact, gas prices were higher under Trump than they were under Obama.\n",
      "\n",
      "In conclusion, the claim that gas prices were WAY higher in 2008, under Republican president George W. Bush, is misleading and incomplete. It fails to provide\n",
      "\n",
      "final_verdict:\n",
      "VERDICT: TRUE\n",
      "REASON: The claim that gas prices were WAY higher in 2008, under Republican president George W. Bush, is supported by the evidence from the U.S. Energy Information Administration, which shows that the highest gas prices occurred in July 2008, during the Bush administration. The statistics demonstrate that gas prices were affected by two major economic shocks during Bush's term, including the 9/11 attacks and the 2008 mortgage crisis and Wall Street collapse, which led to a significant decrease in gas prices by the time Obama took office. While gas prices have risen under President Biden, the current prices are still lower than the peak of $4.11 in July 2008. The claim is not misleading or incomplete, as it provides a clear and accurate comparison of the peak gas price in July 2008 to the current gas prices under President Biden.\n",
      "\n"
     ]
    }
   ],
   "source": [
    "# === Multi-Agent Fact-Checking ===\n",
    "pro_open, con_open, pro_rebut, con_rebut, pro_close, con_close, final_result = run_multi_agent(claim, evidence_text)\n",
    "\n",
    "print(f\"pro_opening:\\n{pro_open}\\n\")\n",
    "print(f\"con_opening:\\n{con_open}\\n\")\n",
    "print(f\"pro_rebuttal:\\n{pro_rebut}\\n\")\n",
    "print(f\"con_rebuttal:\\n{con_rebut}\\n\")\n",
    "print(f\"pro_closing:\\n{pro_close}\\n\")\n",
    "print(f\"con_closing:\\n{con_close}\\n\")\n",
    "print(f\"final_verdict:\\n{final_result}\\n\")"
   ]
  },
  {
   "cell_type": "code",
   "execution_count": null,
   "id": "5e481cc2-0d7d-4a3c-a426-04cea5744cfb",
   "metadata": {},
   "outputs": [],
   "source": []
  }
 ],
 "metadata": {
  "kernelspec": {
   "display_name": "Python (llama3)",
   "language": "python",
   "name": "llama3"
  },
  "language_info": {
   "codemirror_mode": {
    "name": "ipython",
    "version": 3
   },
   "file_extension": ".py",
   "mimetype": "text/x-python",
   "name": "python",
   "nbconvert_exporter": "python",
   "pygments_lexer": "ipython3",
   "version": "3.10.18"
  }
 },
 "nbformat": 4,
 "nbformat_minor": 5
}
